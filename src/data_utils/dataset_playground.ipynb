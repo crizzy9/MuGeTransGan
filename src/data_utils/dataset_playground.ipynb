{
 "cells": [
  {
   "cell_type": "code",
   "execution_count": 1,
   "metadata": {},
   "outputs": [],
   "source": [
    "%config IPCompleter.greedy=True\n",
    "%matplotlib inline"
   ]
  },
  {
   "cell_type": "code",
   "execution_count": 2,
   "metadata": {},
   "outputs": [],
   "source": [
    "max_len = 959040\n",
    "import pypianoroll\n",
    "import torch\n",
    "import os\n",
    "import numpy as np\n",
    "import torchvision\n",
    "from transforms import total_transform\n",
    "from datasets import MultiTrackPianoRollDataset"
   ]
  },
  {
   "cell_type": "code",
   "execution_count": 3,
   "metadata": {},
   "outputs": [
    {
     "name": "stdout",
     "output_type": "stream",
     "text": [
      "CPU times: user 152 ms, sys: 159 ms, total: 311 ms\n",
      "Wall time: 313 ms\n"
     ]
    }
   ],
   "source": [
    "%time dataset = MultiTrackPianoRollDataset('/media/1TB/project/data/lakh/lpd/lpd_5/lpd_5_cleansed')"
   ]
  },
  {
   "cell_type": "code",
   "execution_count": 4,
   "metadata": {},
   "outputs": [
    {
     "name": "stdout",
     "output_type": "stream",
     "text": [
      "CPU times: user 11.7 ms, sys: 0 ns, total: 11.7 ms\n",
      "Wall time: 11.2 ms\n"
     ]
    },
    {
     "data": {
      "text/plain": [
       "Multitrack(tracks=['Drums', 'Piano', 'Guitar', 'Bass', 'Strings'], tempo=array([140.00014, 140.00014, 140.00014, ..., 140.00014, 140.00014,\n",
       "       140.00014]), downbeat=array([ True, False, False, ..., False, False, False]), beat_resolution=24, name=e77645a3b67ab40130aebdbd9409f0d5)"
      ]
     },
     "execution_count": 4,
     "metadata": {},
     "output_type": "execute_result"
    }
   ],
   "source": [
    "%time dataset[0]"
   ]
  },
  {
   "cell_type": "code",
   "execution_count": 5,
   "metadata": {},
   "outputs": [],
   "source": [
    "dataset.transform = total_transform()"
   ]
  },
  {
   "cell_type": "code",
   "execution_count": 8,
   "metadata": {},
   "outputs": [
    {
     "name": "stdout",
     "output_type": "stream",
     "text": [
      "CPU times: user 6.9 s, sys: 4.78 s, total: 11.7 s\n",
      "Wall time: 4.32 s\n"
     ]
    },
    {
     "data": {
      "text/plain": [
       "tensor([[[  0.,   1.,   0.,  ...,   0.,   0.,   0.],\n",
       "         [  0.,   0.,   0.,  ...,   0.,   0.,   0.],\n",
       "         [  0.,   0.,   0.,  ...,   0.,   0.,   0.],\n",
       "         ...,\n",
       "         [129., 129., 129.,  ..., 129., 129., 129.],\n",
       "         [129., 129., 129.,  ..., 129., 129., 129.],\n",
       "         [129., 129., 129.,  ..., 129., 129., 129.]],\n",
       "\n",
       "        [[  0.,   0.,   0.,  ...,   0.,   0.,   0.],\n",
       "         [  0.,   0.,   0.,  ...,   0.,   0.,   0.],\n",
       "         [  0.,   0.,   0.,  ...,   0.,   0.,   0.],\n",
       "         ...,\n",
       "         [129., 129., 129.,  ..., 129., 129., 129.],\n",
       "         [129., 129., 129.,  ..., 129., 129., 129.],\n",
       "         [129., 129., 129.,  ..., 129., 129., 129.]],\n",
       "\n",
       "        [[  0.,   0.,   0.,  ...,   0.,   0.,   0.],\n",
       "         [  0.,   0.,   0.,  ...,   0.,   0.,   0.],\n",
       "         [  0.,   0.,   0.,  ...,   0.,   0.,   0.],\n",
       "         ...,\n",
       "         [129., 129., 129.,  ..., 129., 129., 129.],\n",
       "         [129., 129., 129.,  ..., 129., 129., 129.],\n",
       "         [129., 129., 129.,  ..., 129., 129., 129.]],\n",
       "\n",
       "        [[  0.,   0.,   0.,  ...,   0.,   0.,   0.],\n",
       "         [  0.,   0.,   0.,  ...,   0.,   0.,   0.],\n",
       "         [  0.,   0.,   0.,  ...,   0.,   0.,   0.],\n",
       "         ...,\n",
       "         [129., 129., 129.,  ..., 129., 129., 129.],\n",
       "         [129., 129., 129.,  ..., 129., 129., 129.],\n",
       "         [129., 129., 129.,  ..., 129., 129., 129.]],\n",
       "\n",
       "        [[  0.,   0.,   0.,  ...,   0.,   0.,   0.],\n",
       "         [  0.,   0.,   0.,  ...,   0.,   0.,   0.],\n",
       "         [  0.,   0.,   0.,  ...,   0.,   0.,   0.],\n",
       "         ...,\n",
       "         [129., 129., 129.,  ..., 129., 129., 129.],\n",
       "         [129., 129., 129.,  ..., 129., 129., 129.],\n",
       "         [129., 129., 129.,  ..., 129., 129., 129.]]], dtype=torch.float64)"
      ]
     },
     "execution_count": 8,
     "metadata": {},
     "output_type": "execute_result"
    }
   ],
   "source": [
    "%time dataset[1]"
   ]
  },
  {
   "cell_type": "code",
   "execution_count": 7,
   "metadata": {},
   "outputs": [
    {
     "data": {
      "text/plain": [
       "torch.Size([5, 959040, 128])"
      ]
     },
     "execution_count": 7,
     "metadata": {},
     "output_type": "execute_result"
    }
   ],
   "source": [
    "dataset[0].shape"
   ]
  },
  {
   "cell_type": "code",
   "execution_count": null,
   "metadata": {},
   "outputs": [],
   "source": []
  }
 ],
 "metadata": {
  "kernelspec": {
   "display_name": "Project-PyTorch-GPU",
   "language": "python",
   "name": "project"
  },
  "language_info": {
   "codemirror_mode": {
    "name": "ipython",
    "version": 3
   },
   "file_extension": ".py",
   "mimetype": "text/x-python",
   "name": "python",
   "nbconvert_exporter": "python",
   "pygments_lexer": "ipython3",
   "version": "3.7.2"
  }
 },
 "nbformat": 4,
 "nbformat_minor": 2
}
